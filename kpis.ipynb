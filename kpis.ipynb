{
 "cells": [
  {
   "cell_type": "markdown",
   "metadata": {},
   "source": [
    "\n",
    "# **ANÁLISIS DE RENTABILIDAD**\n"
   ]
  },
  {
   "cell_type": "markdown",
   "metadata": {},
   "source": [
    "### **KPIS para medir la evolucion de un nuevo negocio gastronómico**\n"
   ]
  },
  {
   "cell_type": "markdown",
   "metadata": {},
   "source": [
    "#### 1. **Tasa de Crecimiento de Calificaciones**\n",
    "\n",
    "##### **Objetivo: Incrementar en un 0,1 % la calificación promedio del negocio por trimestre**\n",
    "\n",
    "##### Este KPI medirá la evolución en la calificación promedio del negocio gastronómico en el último trimestre respecto al trimestre anterior \n",
    "\n",
    "##### objetivo_calificación = (Calificacion Promedio Trimestre Actual - Calificacion Promedio Trimestre Anterior) / Calificacion Promedio Trimestre Anterior * 100\n",
    "\n",
    "\n"
   ]
  },
  {
   "cell_type": "markdown",
   "metadata": {},
   "source": [
    "#### 2- **Tasa de Crecimiento de Reviews**\n",
    "\n",
    "##### **Objetivo: Incrementar la cantidad de reseñas del nuevo negocio en un 5% por trimestre**\n",
    "\n",
    "##### Este KPI medirá la evolución de la popularidad del nuevo negocio gastronómico respecto del trimestre anterior, entendiendo que un indicador de esa popularidad es que aumente la cantidad de reseñas.\n",
    "\n",
    "##### objetivo_reseñas = (Cantidad Reseñas Trimestre Actual - Cantidad Reseñas Trimestre Anterior) / Cantidad Reseñas Trimestre Aanterior * 100\n",
    "\n"
   ]
  },
  {
   "cell_type": "markdown",
   "metadata": {},
   "source": []
  },
  {
   "cell_type": "markdown",
   "metadata": {},
   "source": [
    "#### 3- **Indice de repeticion de clientes**\n",
    "\n",
    "##### **Objetivo: incrementar el índice de repetición de clientes en un 10 % por trimestre**\n",
    "\n",
    "##### Este KPI medirá la satisfacción de los clientes a partir de si regresan o no al local en el último trimestre en relación al trimestre anterior.\n",
    "\n",
    "objetivo_repeticion = (Numero de Clientes que Repiten / Numero Total de Clientes) x 100"
   ]
  }
 ],
 "metadata": {
  "kernelspec": {
   "display_name": "Python 3",
   "language": "python",
   "name": "python3"
  },
  "language_info": {
   "codemirror_mode": {
    "name": "ipython",
    "version": 3
   },
   "file_extension": ".py",
   "mimetype": "text/x-python",
   "name": "python",
   "nbconvert_exporter": "python",
   "pygments_lexer": "ipython3",
   "version": "3.13.1"
  }
 },
 "nbformat": 4,
 "nbformat_minor": 2
}
